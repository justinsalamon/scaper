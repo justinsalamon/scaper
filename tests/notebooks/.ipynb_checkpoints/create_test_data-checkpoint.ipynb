{
 "cells": [
  {
   "cell_type": "code",
   "execution_count": 1,
   "metadata": {},
   "outputs": [],
   "source": [
    "import os\n",
    "import scaper"
   ]
  },
  {
   "cell_type": "code",
   "execution_count": 2,
   "metadata": {},
   "outputs": [],
   "source": [
    "os.chdir('../..')"
   ]
  },
  {
   "cell_type": "code",
   "execution_count": 3,
   "metadata": {},
   "outputs": [],
   "source": [
    "# FIXTURES\n",
    "# Paths to files for testing\n",
    "FG_PATH = 'tests/data/audio/foreground'\n",
    "BG_PATH = 'tests/data/audio/background'\n",
    "\n",
    "ALT_FG_PATH = 'tests/data/audio_alt_path/foreground'\n",
    "ALT_BG_PATH = 'tests/data/audio_alt_path/background'\n",
    "\n",
    "REG_NAME = 'soundscape_20190326_22050'\n",
    "# REG_WAV_PATH = 'tests/data/regression/soundscape_20170928.wav'\n",
    "# REG_JAM_PATH = 'tests/data/regression/soundscape_20170928.jams'\n",
    "# REG_TXT_PATH = 'tests/data/regression/soundscape_20170928.txt'\n",
    "\n",
    "REG_BGONLY_NAME = 'bgonly_soundscape_20190326_22050'\n",
    "# REG_BGONLY_WAV_PATH = 'tests/data/regression/bgonly_soundscape_20170928.wav'\n",
    "# REG_BGONLY_JAM_PATH = 'tests/data/regression/bgonly_soundscape_20170928.jams'\n",
    "# REG_BGONLY_TXT_PATH = 'tests/data/regression/bgonly_soundscape_20170928.txt'\n",
    "\n",
    "REG_REVERB_NAME = 'reverb_soundscape_20190326_22050'\n",
    "# REG_REVERB_WAV_PATH = 'tests/data/regression/reverb_soundscape_20170928.wav'\n",
    "# REG_REVERB_JAM_PATH = 'tests/data/regression/reverb_soundscape_20170928.jams'\n",
    "# REG_REVERB_TXT_PATH = 'tests/data/regression/reverb_soundscape_20170928.txt'\n",
    "\n",
    "# fg and bg labels for testing\n",
    "FB_LABELS = ['car_horn', 'human_voice', 'siren']\n",
    "BG_LABELS = ['park', 'restaurant', 'street']"
   ]
  },
  {
   "cell_type": "code",
   "execution_count": 4,
   "metadata": {},
   "outputs": [
    {
     "data": {
      "text/plain": [
       "['tests/data/regression/soundscape_20190326_22050.wav',\n",
       " 'tests/data/regression/soundscape_20190326_22050.jams',\n",
       " 'tests/data/regression/soundscape_20190326_22050.txt']"
      ]
     },
     "execution_count": 4,
     "metadata": {},
     "output_type": "execute_result"
    }
   ],
   "source": [
    "def test_names(name, exts=('wav', 'jams', 'txt')):\n",
    "    return [os.path.join('tests/data/regression', name + '.' + ext) for ext in exts]\n",
    "test_names(REG_NAME)"
   ]
  },
  {
   "cell_type": "code",
   "execution_count": 5,
   "metadata": {},
   "outputs": [
    {
     "name": "stdout",
     "output_type": "stream",
     "text": [
      "REG_WAV_PATH = 'tests/data/regression/soundscape_20190326_22050.wav'\n",
      "REG_JAM_PATH = 'tests/data/regression/soundscape_20190326_22050.jams'\n",
      "REG_TXT_PATH = 'tests/data/regression/soundscape_20190326_22050.txt'\n",
      "\n",
      "REG_BGONLY_WAV_PATH = 'tests/data/regression/bgonly_soundscape_20190326_22050.wav'\n",
      "REG_BGONLY_JAM_PATH = 'tests/data/regression/bgonly_soundscape_20190326_22050.jams'\n",
      "REG_BGONLY_TXT_PATH = 'tests/data/regression/bgonly_soundscape_20190326_22050.txt'\n",
      "\n",
      "REG_REVERB_WAV_PATH = 'tests/data/regression/reverb_soundscape_20190326_22050.wav'\n",
      "REG_REVERB_JAM_PATH = 'tests/data/regression/reverb_soundscape_20190326_22050.jams'\n",
      "REG_REVERB_TXT_PATH = 'tests/data/regression/reverb_soundscape_20190326_22050.txt'\n",
      "\n"
     ]
    }
   ],
   "source": [
    "# copy and paste into test_core.py ;)\n",
    "VAR_NAMES_PARTIAL = ('REG', 'REG_BGONLY', 'REG_REVERB')\n",
    "FILE_BASENAMES = (REG_NAME, REG_BGONLY_NAME, REG_REVERB_NAME)\n",
    "FILE_TYPES = ('WAV', 'JAM', 'TXT')\n",
    "\n",
    "for var, name in zip(VAR_NAMES_PARTIAL, FILE_BASENAMES):\n",
    "    for type, path in zip(FILE_TYPES, test_names(name)):\n",
    "        print(\"{}_{}_PATH = '{}'\".format(var, type, path))\n",
    "    print()"
   ]
  },
  {
   "cell_type": "code",
   "execution_count": 9,
   "metadata": {},
   "outputs": [
    {
     "name": "stdout",
     "output_type": "stream",
     "text": [
      "Wrote: tests/data/regression/soundscape_20190326_22050.wav tests/data/regression/soundscape_20190326_22050.jams tests/data/regression/soundscape_20190326_22050.txt\n",
      "Wrote: tests/data/regression/reverb_soundscape_20190326_22050.wav tests/data/regression/reverb_soundscape_20190326_22050.jams tests/data/regression/reverb_soundscape_20190326_22050.txt\n"
     ]
    }
   ],
   "source": [
    "sc = scaper.Scaper(10.0, fg_path=FG_PATH, bg_path=BG_PATH)\n",
    "sc.ref_db = -50\n",
    "sc.sr = 22050\n",
    "\n",
    "# background\n",
    "sc.add_background(\n",
    "    label=('const', 'park'),\n",
    "    source_file=(\n",
    "        'const',\n",
    "        'tests/data/audio/background/park/'\n",
    "        '268903__yonts__city-park-tel-aviv-israel.wav'),\n",
    "    source_time=('const', 0))\n",
    "\n",
    "# foreground events\n",
    "sc.add_event(\n",
    "    label=('const', 'siren'),\n",
    "    source_file=('const',\n",
    "                 'tests/data/audio/foreground/'\n",
    "                 'siren/69-Siren-1.wav'),\n",
    "    source_time=('const', 5),\n",
    "    event_time=('const', 2),\n",
    "    event_duration=('const', 5),\n",
    "    snr=('const', 5),\n",
    "    pitch_shift=None,\n",
    "    time_stretch=None)\n",
    "\n",
    "sc.add_event(\n",
    "    label=('const', 'car_horn'),\n",
    "    source_file=('const',\n",
    "                 'tests/data/audio/foreground/'\n",
    "                 'car_horn/17-CAR-Rolls-Royce-Horn.wav'),\n",
    "    source_time=('const', 0),\n",
    "    event_time=('const', 5),\n",
    "    event_duration=('const', 2),\n",
    "    snr=('const', 20),\n",
    "    pitch_shift=('const', 1),\n",
    "    time_stretch=None)\n",
    "\n",
    "sc.add_event(\n",
    "    label=('const', 'human_voice'),\n",
    "    source_file=('const',\n",
    "                 'tests/data/audio/foreground/'\n",
    "                 'human_voice/42-Human-Vocal-Voice-taxi-2_edit.wav'),\n",
    "    source_time=('const', 0),\n",
    "    event_time=('const', 7),\n",
    "    event_duration=('const', 2),\n",
    "    snr=('const', 10),\n",
    "    pitch_shift=None,\n",
    "    time_stretch=('const', 1.2))\n",
    "\n",
    "\n",
    "wav_file, jam_file, txt_file = test_names(REG_NAME)\n",
    "sc.generate(wav_file, jam_file, txt_path=txt_file, disable_instantiation_warnings=True)\n",
    "print('Wrote:', wav_file, jam_file, txt_file)\n",
    "\n",
    "wav_file, jam_file, txt_file = test_names(REG_REVERB_NAME)\n",
    "sc.generate(wav_file, jam_file, txt_path=txt_file, reverb=0.2, disable_instantiation_warnings=True)\n",
    "print('Wrote:', wav_file, jam_file, txt_file)"
   ]
  },
  {
   "cell_type": "code",
   "execution_count": 8,
   "metadata": {},
   "outputs": [
    {
     "name": "stdout",
     "output_type": "stream",
     "text": [
      "Wrote: tests/data/regression/bgonly_soundscape_20190326_22050.wav tests/data/regression/bgonly_soundscape_20190326_22050.jams tests/data/regression/bgonly_soundscape_20190326_22050.txt\n"
     ]
    }
   ],
   "source": [
    "# soundscape with only one event will use transformer (regression test)\n",
    "sc = scaper.Scaper(10.0, fg_path=FG_PATH, bg_path=BG_PATH)\n",
    "sc.ref_db = -20\n",
    "sc.sr = 22050\n",
    "\n",
    "# background\n",
    "sc.add_background(\n",
    "    label=('const', 'park'),\n",
    "    source_file=('const',\n",
    "                 'tests/data/audio/background/park/'\n",
    "                 '268903__yonts__city-park-tel-aviv-israel.wav'),\n",
    "    source_time=('const', 0))\n",
    "\n",
    "wav_file, jam_file, txt_file = test_names(REG_BGONLY_NAME)\n",
    "sc.generate(wav_file, jam_file, txt_path=txt_file, reverb=0.2, disable_instantiation_warnings=True)\n",
    "print('Wrote:', wav_file, jam_file, txt_file)"
   ]
  },
  {
   "cell_type": "code",
   "execution_count": null,
   "metadata": {},
   "outputs": [],
   "source": []
  }
 ],
 "metadata": {
  "kernelspec": {
   "display_name": "Python 3",
   "language": "python",
   "name": "python3"
  },
  "language_info": {
   "codemirror_mode": {
    "name": "ipython",
    "version": 3
   },
   "file_extension": ".py",
   "mimetype": "text/x-python",
   "name": "python",
   "nbconvert_exporter": "python",
   "pygments_lexer": "ipython3",
   "version": "3.7.3"
  }
 },
 "nbformat": 4,
 "nbformat_minor": 2
}
